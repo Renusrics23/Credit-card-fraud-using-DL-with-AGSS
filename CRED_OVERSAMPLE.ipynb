{
  "nbformat": 4,
  "nbformat_minor": 0,
  "metadata": {
    "colab": {
      "provenance": []
    },
    "kernelspec": {
      "name": "python3",
      "display_name": "Python 3"
    },
    "language_info": {
      "name": "python"
    }
  },
  "cells": [
    {
      "cell_type": "code",
      "source": [
        "import pandas as pd\n",
        "import numpy as np\n",
        "import torch\n",
        "import torch.nn as nn\n",
        "import torch.optim as optim\n",
        "from torch.utils.data import DataLoader, TensorDataset, random_split\n",
        "from sklearn.model_selection import train_test_split\n",
        "from sklearn.preprocessing import StandardScaler\n",
        "from imblearn.over_sampling import RandomOverSampler\n",
        "from sklearn.metrics import accuracy_score, precision_score, recall_score, f1_score\n",
        "from imblearn.over_sampling import SMOTE\n",
        "from imblearn.over_sampling import ADASYN\n",
        "from imblearn.over_sampling import BorderlineSMOTE\n",
        "from imblearn.over_sampling import SVMSMOTE\n",
        "from imblearn.over_sampling import KMeansSMOTE\n",
        "from sklearn.cluster import KMeans\n",
        "from sklearn.neighbors import NearestNeighbors\n",
        "from sklearn.cluster import DBSCAN\n",
        "from sklearn.metrics import classification_report, accuracy_score\n",
        "\n",
        "# Load the dataset\n",
        "data = pd.read_csv('//content/drive/MyDrive/creditcard.csv')\n"
      ],
      "metadata": {
        "id": "0mA_U35NiVQS"
      },
      "execution_count": 7,
      "outputs": []
    },
    {
      "cell_type": "code",
      "source": [
        "data['Class'].value_counts()"
      ],
      "metadata": {
        "colab": {
          "base_uri": "https://localhost:8080/",
          "height": 178
        },
        "id": "k82f79dv7Bhe",
        "outputId": "f6154ad0-0bff-4c82-dbb2-567b0838922b"
      },
      "execution_count": 8,
      "outputs": [
        {
          "output_type": "execute_result",
          "data": {
            "text/plain": [
              "Class\n",
              "0    284315\n",
              "1       492\n",
              "Name: count, dtype: int64"
            ],
            "text/html": [
              "<div>\n",
              "<style scoped>\n",
              "    .dataframe tbody tr th:only-of-type {\n",
              "        vertical-align: middle;\n",
              "    }\n",
              "\n",
              "    .dataframe tbody tr th {\n",
              "        vertical-align: top;\n",
              "    }\n",
              "\n",
              "    .dataframe thead th {\n",
              "        text-align: right;\n",
              "    }\n",
              "</style>\n",
              "<table border=\"1\" class=\"dataframe\">\n",
              "  <thead>\n",
              "    <tr style=\"text-align: right;\">\n",
              "      <th></th>\n",
              "      <th>count</th>\n",
              "    </tr>\n",
              "    <tr>\n",
              "      <th>Class</th>\n",
              "      <th></th>\n",
              "    </tr>\n",
              "  </thead>\n",
              "  <tbody>\n",
              "    <tr>\n",
              "      <th>0</th>\n",
              "      <td>284315</td>\n",
              "    </tr>\n",
              "    <tr>\n",
              "      <th>1</th>\n",
              "      <td>492</td>\n",
              "    </tr>\n",
              "  </tbody>\n",
              "</table>\n",
              "</div><br><label><b>dtype:</b> int64</label>"
            ]
          },
          "metadata": {},
          "execution_count": 8
        }
      ]
    },
    {
      "cell_type": "code",
      "source": [
        "data.shape"
      ],
      "metadata": {
        "colab": {
          "base_uri": "https://localhost:8080/"
        },
        "id": "NIipRek63nOP",
        "outputId": "c1ccc2ed-9573-424d-db2b-ece10efe2986"
      },
      "execution_count": 9,
      "outputs": [
        {
          "output_type": "execute_result",
          "data": {
            "text/plain": [
              "(284807, 31)"
            ]
          },
          "metadata": {},
          "execution_count": 9
        }
      ]
    },
    {
      "cell_type": "code",
      "source": [
        "\n",
        "# Check for and handle missing values\n",
        "data = data.dropna(subset=['Class'])\n",
        "X = data.drop('Class', axis=1)\n",
        "y = data['Class']\n",
        "\n",
        "# Handle missing values in features\n",
        "X = X.fillna(X.mean())\n",
        "\n",
        "# Preprocess the data\n",
        "X = X.values\n",
        "y = y.values\n",
        "\n",
        "# Normalize the features\n",
        "scaler = StandardScaler()\n",
        "X_scaled = scaler.fit_transform(X)"
      ],
      "metadata": {
        "id": "aehbGfAp69it"
      },
      "execution_count": 10,
      "outputs": []
    },
    {
      "cell_type": "code",
      "source": [
        "x_train, x_test, y_train, y_test = train_test_split(X_scaled, y, test_size=0.2, random_state=42)"
      ],
      "metadata": {
        "id": "YSCSdZoOislG"
      },
      "execution_count": 11,
      "outputs": []
    },
    {
      "cell_type": "code",
      "source": [
        "from imblearn.over_sampling import RandomOverSampler\n",
        "# Random Oversampling\n",
        "X_train = x_train\n",
        "y_train = y_train\n",
        "ros = RandomOverSampler(random_state=42)\n",
        "X_ros, y_ros = ros.fit_resample(X_train, y_train)\n"
      ],
      "metadata": {
        "id": "l8u8LnZWiV_S"
      },
      "execution_count": 12,
      "outputs": []
    },
    {
      "cell_type": "code",
      "source": [
        "# SMOTE\n",
        "from imblearn.over_sampling import SMOTE\n",
        "\n",
        "smote = SMOTE(random_state=42)\n",
        "X_smote, y_smote = smote.fit_resample(X_train, y_train)\n"
      ],
      "metadata": {
        "id": "ivIR9NfzilK4"
      },
      "execution_count": 13,
      "outputs": []
    },
    {
      "cell_type": "code",
      "source": [
        "# ADASYN\n",
        "from imblearn.over_sampling import ADASYN\n",
        "\n",
        "adasyn = ADASYN(random_state=42)\n",
        "X_adasyn, y_adasyn = adasyn.fit_resample(X_train, y_train)"
      ],
      "metadata": {
        "id": "wO-cFMmBjXj3",
        "colab": {
          "base_uri": "https://localhost:8080/"
        },
        "outputId": "117899d7-f181-48c9-b697-230dc3a82954"
      },
      "execution_count": null,
      "outputs": [
        {
          "output_type": "stream",
          "name": "stderr",
          "text": [
            "/usr/local/lib/python3.10/dist-packages/sklearn/base.py:474: FutureWarning: `BaseEstimator._validate_data` is deprecated in 1.6 and will be removed in 1.7. Use `sklearn.utils.validation.validate_data` instead. This function becomes public and is part of the scikit-learn developer API.\n",
            "  warnings.warn(\n",
            "/usr/local/lib/python3.10/dist-packages/sklearn/utils/_tags.py:354: FutureWarning: The ADASYN or classes from which it inherits use `_get_tags` and `_more_tags`. Please define the `__sklearn_tags__` method, or inherit from `sklearn.base.BaseEstimator` and/or other appropriate mixins such as `sklearn.base.TransformerMixin`, `sklearn.base.ClassifierMixin`, `sklearn.base.RegressorMixin`, and `sklearn.base.OutlierMixin`. From scikit-learn 1.7, not defining `__sklearn_tags__` will raise an error.\n",
            "  warnings.warn(\n"
          ]
        }
      ]
    },
    {
      "cell_type": "code",
      "source": [
        "# BorderlineSMOTE\n",
        "from imblearn.over_sampling import BorderlineSMOTE\n",
        "\n",
        "borderline_smote = BorderlineSMOTE(random_state=42)\n",
        "X_borderline, y_borderline = borderline_smote.fit_resample(X_train, y_train)"
      ],
      "metadata": {
        "colab": {
          "base_uri": "https://localhost:8080/"
        },
        "id": "ysqAnhkprBwi",
        "outputId": "8ba10b0a-a024-410d-ada4-ee50311ff6b2"
      },
      "execution_count": null,
      "outputs": [
        {
          "output_type": "stream",
          "name": "stderr",
          "text": [
            "/usr/local/lib/python3.10/dist-packages/sklearn/base.py:474: FutureWarning: `BaseEstimator._validate_data` is deprecated in 1.6 and will be removed in 1.7. Use `sklearn.utils.validation.validate_data` instead. This function becomes public and is part of the scikit-learn developer API.\n",
            "  warnings.warn(\n",
            "/usr/local/lib/python3.10/dist-packages/sklearn/utils/_tags.py:354: FutureWarning: The BorderlineSMOTE or classes from which it inherits use `_get_tags` and `_more_tags`. Please define the `__sklearn_tags__` method, or inherit from `sklearn.base.BaseEstimator` and/or other appropriate mixins such as `sklearn.base.TransformerMixin`, `sklearn.base.ClassifierMixin`, `sklearn.base.RegressorMixin`, and `sklearn.base.OutlierMixin`. From scikit-learn 1.7, not defining `__sklearn_tags__` will raise an error.\n",
            "  warnings.warn(\n"
          ]
        }
      ]
    },
    {
      "cell_type": "code",
      "source": [
        "# KmeansSMOTE\n",
        "from imblearn.over_sampling import KMeansSMOTE\n",
        "\n",
        "kmeans_smote = KMeansSMOTE(random_state=42, cluster_balance_threshold=0)\n",
        "\n",
        "X_kmeans, y_kmeans = kmeans_smote.fit_resample(X_train, y_train)"
      ],
      "metadata": {
        "colab": {
          "base_uri": "https://localhost:8080/"
        },
        "id": "Wz8ox5KorDk6",
        "outputId": "c0c8ba01-3045-4632-eac3-f4ccc63435e1"
      },
      "execution_count": null,
      "outputs": [
        {
          "output_type": "stream",
          "name": "stderr",
          "text": [
            "/usr/local/lib/python3.10/dist-packages/sklearn/base.py:474: FutureWarning: `BaseEstimator._validate_data` is deprecated in 1.6 and will be removed in 1.7. Use `sklearn.utils.validation.validate_data` instead. This function becomes public and is part of the scikit-learn developer API.\n",
            "  warnings.warn(\n",
            "/usr/local/lib/python3.10/dist-packages/sklearn/utils/_tags.py:354: FutureWarning: The KMeansSMOTE or classes from which it inherits use `_get_tags` and `_more_tags`. Please define the `__sklearn_tags__` method, or inherit from `sklearn.base.BaseEstimator` and/or other appropriate mixins such as `sklearn.base.TransformerMixin`, `sklearn.base.ClassifierMixin`, `sklearn.base.RegressorMixin`, and `sklearn.base.OutlierMixin`. From scikit-learn 1.7, not defining `__sklearn_tags__` will raise an error.\n",
            "  warnings.warn(\n"
          ]
        }
      ]
    },
    {
      "cell_type": "code",
      "source": [
        "# SVMSMOTE\n",
        "from imblearn.over_sampling import SVMSMOTE\n",
        "\n",
        "svmsmote = SVMSMOTE(random_state=42)\n",
        "X_svmsmote, y_svmsmote = svmsmote.fit_resample(X_train, y_train)"
      ],
      "metadata": {
        "colab": {
          "base_uri": "https://localhost:8080/"
        },
        "id": "BnrCoAJEsfaZ",
        "outputId": "c89c8c68-91f3-452b-cb0b-dec242005bb7"
      },
      "execution_count": null,
      "outputs": [
        {
          "output_type": "stream",
          "name": "stderr",
          "text": [
            "/usr/local/lib/python3.10/dist-packages/sklearn/base.py:474: FutureWarning: `BaseEstimator._validate_data` is deprecated in 1.6 and will be removed in 1.7. Use `sklearn.utils.validation.validate_data` instead. This function becomes public and is part of the scikit-learn developer API.\n",
            "  warnings.warn(\n",
            "/usr/local/lib/python3.10/dist-packages/sklearn/utils/_tags.py:354: FutureWarning: The SVMSMOTE or classes from which it inherits use `_get_tags` and `_more_tags`. Please define the `__sklearn_tags__` method, or inherit from `sklearn.base.BaseEstimator` and/or other appropriate mixins such as `sklearn.base.TransformerMixin`, `sklearn.base.ClassifierMixin`, `sklearn.base.RegressorMixin`, and `sklearn.base.OutlierMixin`. From scikit-learn 1.7, not defining `__sklearn_tags__` will raise an error.\n",
            "  warnings.warn(\n"
          ]
        }
      ]
    },
    {
      "cell_type": "code",
      "source": [
        "class RNNModel(nn.Module):\n",
        "        def __init__(self, input_size, hidden_size, output_size):\n",
        "            super(RNNModel, self).__init__()\n",
        "            self.rnn = nn.RNN(input_size, hidden_size, batch_first=True)\n",
        "            self.fc = nn.Linear(hidden_size, output_size)\n",
        "\n",
        "        def forward(self, x):\n",
        "            # Reshape input to (batch_size, sequence_length, input_size)\n",
        "            x = x.view(x.size(0), 1, -1)  # Reshape input to have sequence length of 1\n",
        "\n",
        "            out, _ = self.rnn(x)\n",
        "            out = self.fc(out[:, -1, :])  # Use the last time step\n",
        "            return torch.sigmoid(out)"
      ],
      "metadata": {
        "id": "9_PrG7pXqnME"
      },
      "execution_count": 14,
      "outputs": []
    },
    {
      "cell_type": "code",
      "source": [
        "class LSTMModel(nn.Module):\n",
        "        def __init__(self, input_size, hidden_size, output_size):\n",
        "            super(LSTMModel, self).__init__()\n",
        "            self.lstm = nn.LSTM(input_size, hidden_size, batch_first=True)\n",
        "            self.fc = nn.Linear(hidden_size, output_size)\n",
        "\n",
        "        def forward(self, x):\n",
        "            # Reshape input to (batch_size, sequence_length, input_size)\n",
        "            x = x.view(x.size(0), 1, -1)  # Reshape input to have sequence length of 1\n",
        "            out, (hn, _) = self.lstm(x)\n",
        "            out = self.fc(hn[-1])  # Pass the last hidden state through the linear layer\n",
        "\n",
        "            # Reshape to match target size (batch_size, output_size)\n",
        "            out = out.view(-1, 1)  # Reshape to (num_samples, 1)\n",
        "            return torch.sigmoid(out) # apply sigmoid function"
      ],
      "metadata": {
        "id": "KXbK78Hg5ltA"
      },
      "execution_count": 15,
      "outputs": []
    },
    {
      "cell_type": "code",
      "source": [
        "# TRAINING FUNCTION\n",
        "def train_model(model, train_loader, criterion, optimizer, epochs=10):\n",
        "    model.train()\n",
        "    for epoch in range(epochs):\n",
        "        for X_batch, y_batch in train_loader:\n",
        "            optimizer.zero_grad()\n",
        "            outputs = model(X_batch)\n",
        "            loss = criterion(outputs, y_batch)\n",
        "            loss.backward()\n",
        "            optimizer.step()\n",
        "        print(f\"Epoch {epoch+1}, Loss: {loss.item()}\")\n"
      ],
      "metadata": {
        "id": "1CLkeNjjperC"
      },
      "execution_count": 16,
      "outputs": []
    },
    {
      "source": [
        "def prepare_dataloader(X, y, batch_size=32):\n",
        "    # Convert X to a tensor\n",
        "    X_tensor = torch.tensor(X, dtype=torch.float32)\n",
        "\n",
        "    # Convert y to a tensor and ensure dimensions match\n",
        "    y = np.array(y)  # Ensure it's a NumPy array\n",
        "    if len(y.shape) == 1:  # If y is 1D\n",
        "        y = y.reshape(-1, 1)  # Reshape to match samples in X\n",
        "\n",
        "    y_tensor = torch.tensor(y, dtype=torch.float32)\n",
        "\n",
        "    # Print shapes for debugging\n",
        "    print(\"X_tensor shape:\", X_tensor.shape)\n",
        "    print(\"y_tensor shape:\", y_tensor.shape)\n",
        "\n",
        "    # Combine tensors into a dataset and create a DataLoader\n",
        "    dataset = torch.utils.data.TensorDataset(X_tensor, y_tensor)\n",
        "    dataloader = torch.utils.data.DataLoader(dataset, batch_size=batch_size, shuffle=True)\n",
        "\n",
        "    return dataloader\n"
      ],
      "cell_type": "code",
      "metadata": {
        "id": "z4UvDmLcJDBD"
      },
      "execution_count": 17,
      "outputs": []
    },
    {
      "cell_type": "code",
      "source": [
        "# EVALUTION FUNCTION\n",
        "from sklearn.metrics import accuracy_score, precision_score, recall_score, f1_score\n",
        "\n",
        "def evaluate_model(model, test_loader):\n",
        "    model.eval()\n",
        "    y_pred, y_true = [], []\n",
        "    with torch.no_grad():\n",
        "        for X_batch, y_batch in test_loader:\n",
        "            outputs = model(X_batch)\n",
        "            y_pred.extend(outputs.numpy())\n",
        "            y_true.extend(y_batch.numpy())\n",
        "    y_pred = (np.array(y_pred) > 0.5).astype(int)\n",
        "    return accuracy_score(y_true, y_pred), precision_score(y_true, y_pred), recall_score(y_true, y_pred), f1_score(y_true, y_pred)\n"
      ],
      "metadata": {
        "id": "GQXWXWi6pg67"
      },
      "execution_count": 18,
      "outputs": []
    },
    {
      "cell_type": "code",
      "source": [
        "from sklearn.model_selection import train_test_split\n",
        "\n",
        "X_train, X_test, y_train, y_test = train_test_split(X_scaled, y, test_size=0.2, random_state=42)"
      ],
      "metadata": {
        "id": "a1mVPoMCm_YQ"
      },
      "execution_count": 19,
      "outputs": []
    },
    {
      "source": [
        "import numpy as np\n",
        "from sklearn.cluster import DBSCAN\n",
        "from sklearn.neighbors import NearestNeighbors\n",
        "\n",
        "def agss(X_train, y_train, n_synthetic_samples):\n",
        "    \"\"\"\n",
        "    Attribute Guided Synthetic Sampling (AGSS) for oversampling minority class.\n",
        "\n",
        "    Args:\n",
        "        X_train: Training data features.\n",
        "        y_train: Training data labels.\n",
        "        n_synthetic_samples: Number of synthetic samples to generate.\n",
        "\n",
        "    Returns:\n",
        "        X_agss: Oversampled data features.\n",
        "        y_agss: Oversampled data labels.\n",
        "    \"\"\"\n",
        "    # Step 1: Cluster minority class\n",
        "    X_minority = X_train[y_train == 1]  # Extract minority class samples\n",
        "    clustering = DBSCAN(eps=0.8, min_samples=3).fit(X_minority) # Adjust eps and min_samples\n",
        "\n",
        "    # Check if any clusters were found (excluding noise points labeled -1)\n",
        "    if len(set(clustering.labels_)) <= 1:  # Only noise points or no clusters\n",
        "        print(\"No clusters found by DBSCAN. Returning original data.\")\n",
        "        return X_train, y_train  # Return original data if no clusters found\n",
        "\n",
        "    clusters = {label: X_minority[clustering.labels_ == label]\n",
        "                for label in set(clustering.labels_) if label != -1}\n",
        "\n",
        "    # Step 2: Generate synthetic samples\n",
        "    synthetic_samples = []\n",
        "    for cluster_points in clusters.values():\n",
        "        neighbors = NearestNeighbors(n_neighbors=3).fit(cluster_points)\n",
        "        _, indices = neighbors.kneighbors(cluster_points)\n",
        "\n",
        "        for i in range(n_synthetic_samples // len(clusters)):\n",
        "            base_point = cluster_points[np.random.choice(range(len(cluster_points)))]\n",
        "            neighbor_point = cluster_points[np.random.choice(indices.flatten())]\n",
        "\n",
        "            # Generate synthetic sample along gradient\n",
        "            direction = neighbor_point - base_point\n",
        "            step_size = np.random.uniform(0.1, 1.0)\n",
        "            new_sample = base_point + step_size * direction\n",
        "\n",
        "            # Add curvature transformation to all features\n",
        "            angle = np.random.uniform(-np.pi / 4, np.pi / 4)\n",
        "            new_sample = new_sample * np.cos(angle) + np.random.rand(new_sample.shape[0]) * np.sin(angle)\n",
        "\n",
        "            synthetic_samples.append(new_sample) # No need to flatten\n",
        "\n",
        "\n",
        "    X_oversampled = np.array(synthetic_samples)\n",
        "\n",
        "    # Check for empty synthetic samples\n",
        "    if X_oversampled.size == 0:  # Handle cases where the array is empty\n",
        "        print(\"No synthetic samples generated. Returning original data.\")\n",
        "        return X_train, y_train\n",
        "\n",
        "    # Combine original and synthetic data\n",
        "    X_agss = np.vstack((X_train, X_oversampled))\n",
        "    y_agss = np.hstack((y_train, np.ones(len(synthetic_samples), dtype=int)))\n",
        "\n",
        "    return X_agss, y_agss"
      ],
      "cell_type": "code",
      "metadata": {
        "id": "aDZHKGYU5oAi"
      },
      "execution_count": 20,
      "outputs": []
    },
    {
      "cell_type": "code",
      "source": [
        "# Hyperparameters\n",
        "input_size = X_train.shape[1]\n",
        "hidden_size = 64\n",
        "output_size = 1\n",
        "epochs = 10\n",
        "learning_rate = 0.001\n",
        "\n",
        "# Initialize Models\n",
        "rnn = RNNModel(input_size, hidden_size, output_size)\n",
        "lstm = LSTMModel(input_size, hidden_size, output_size)\n",
        "\n",
        "criterion = nn.BCELoss()\n",
        "optimizer_rnn = torch.optim.Adam(rnn.parameters(), lr=learning_rate)\n",
        "optimizer_lstm = torch.optim.Adam(lstm.parameters(), lr=learning_rate)\n",
        "\n",
        "X_minority = X_train[y_train == 1]  # Get minority class samples\n",
        "n_synthetic_samples = len(X_train[y_train == 0]) - len(X_train[y_train == 1])\n",
        "\n",
        "\n",
        "sampling_methods = {\n",
        "    'Random Oversampling': (X_ros, y_ros),\n",
        "    'SMOTE': (X_smote, y_smote),\n",
        "    'ADASYN': (X_adasyn, y_adasyn),\n",
        "     #'AGSS': agss(X_train, y_train, len(X_train[y_train == 0]) - len(X_train[y_train == 1]), eps=0.3, min_samples=3)  # Adjust values\n",
        "    'AGSS': agss(X_train, y_train, len(X_train[y_train == 0]) - len(X_train[y_train == 1])),  # Call agss here\n",
        "    'BorderlineSMOTE': (X_borderline, y_borderline),\n",
        "    'KmeansSMOTE': (X_kmeans, y_kmeans),\n",
        "    'SVMSMOTE': (X_svmsmote, y_svmsmote)\n",
        "}\n",
        "\n",
        "'''\n",
        "sampling_methods = {\n",
        "    'Random Oversampling': (X_ros, y_ros),\n",
        "    'SMOTE': (X_smote, y_smote),\n",
        "    'ADASYN': (X_adasyn, y_adasyn),\n",
        "    'BorderlineSMOTE': (X_borderline_smote, y_borderline_smote),\n",
        "    'KMeansSMOTE': (X_kmeans, y_kmeans),  # Changed from X_kmeans_smote, y_kmeans_smote\n",
        "    'SVMSMOTE': (X_svm_smote, y_svm_smote),\n",
        "    'AGSS': agss(X_train, y_train, len(X_train[y_train == 0]) - len(X_train[y_train == 1]))\n",
        "}\n",
        "'''\n",
        "results = {}\n",
        "\n",
        "for method, (X_sampled, y_sampled) in sampling_methods.items():\n",
        "    train_loader = prepare_dataloader(X_sampled, y_sampled)\n",
        "    test_loader = prepare_dataloader(X_test, y_test)\n",
        "\n",
        "    print(f\"Training RNN with {method}...\")\n",
        "    train_model(rnn, train_loader, criterion, optimizer_rnn, epochs)\n",
        "    rnn_results = evaluate_model(rnn, test_loader)\n",
        "\n",
        "    print(f\"Training LSTM with {method}...\")\n",
        "    train_model(lstm, train_loader, criterion, optimizer_lstm, epochs)\n",
        "    lstm_results = evaluate_model(lstm, test_loader)\n",
        "\n",
        "    results[method] = {'RNN': rnn_results, 'LSTM': lstm_results}"
      ],
      "metadata": {
        "colab": {
          "base_uri": "https://localhost:8080/"
        },
        "id": "LKms04eaVjgN",
        "outputId": "67a56d5c-379a-4d27-e345-f158afff6889"
      },
      "execution_count": null,
      "outputs": [
        {
          "output_type": "stream",
          "name": "stdout",
          "text": [
            "X_tensor shape: torch.Size([454902, 30])\n",
            "y_tensor shape: torch.Size([454902, 1])\n",
            "X_tensor shape: torch.Size([56962, 30])\n",
            "y_tensor shape: torch.Size([56962, 1])\n",
            "Training RNN with Random Oversampling...\n",
            "Epoch 1, Loss: 0.0008745776140131056\n",
            "Epoch 2, Loss: 0.0008547771722078323\n",
            "Epoch 3, Loss: 0.00043318208190612495\n",
            "Epoch 4, Loss: 3.8320781641232315e-06\n",
            "Epoch 5, Loss: 3.0996565328678116e-05\n",
            "Epoch 6, Loss: 4.180297310085734e-06\n",
            "Epoch 7, Loss: 0.0001387267984682694\n",
            "Epoch 8, Loss: 5.622702883556485e-05\n",
            "Epoch 9, Loss: 1.8830589397111908e-05\n",
            "Epoch 10, Loss: 7.978100620675832e-05\n",
            "Training LSTM with Random Oversampling...\n",
            "Epoch 1, Loss: 9.442842565476894e-05\n",
            "Epoch 2, Loss: 9.428602061234415e-05\n",
            "Epoch 3, Loss: 0.00011490313772810623\n",
            "Epoch 4, Loss: 0.00019535866158548743\n",
            "Epoch 5, Loss: 2.7655378289637156e-05\n",
            "Epoch 6, Loss: 4.186631940683583e-06\n",
            "Epoch 7, Loss: 9.13233725441387e-06\n",
            "Epoch 8, Loss: 7.099081813066732e-06\n",
            "Epoch 9, Loss: 1.730134681565687e-05\n",
            "Epoch 10, Loss: 1.335874549113214e-05\n",
            "X_tensor shape: torch.Size([454902, 30])\n",
            "y_tensor shape: torch.Size([454902, 1])\n",
            "X_tensor shape: torch.Size([56962, 30])\n",
            "y_tensor shape: torch.Size([56962, 1])\n",
            "Training RNN with SMOTE...\n",
            "Epoch 1, Loss: 1.435036028851755e-05\n",
            "Epoch 2, Loss: 5.834858529851772e-05\n",
            "Epoch 3, Loss: 0.00010090372961713001\n",
            "Epoch 4, Loss: 0.0002572297235019505\n",
            "Epoch 5, Loss: 0.00020445777045097202\n",
            "Epoch 6, Loss: 2.0841041987296194e-05\n",
            "Epoch 7, Loss: 5.607176717603579e-05\n",
            "Epoch 8, Loss: 4.912639269605279e-06\n",
            "Epoch 9, Loss: 7.635082147317007e-05\n",
            "Epoch 10, Loss: 0.00010970768198603764\n",
            "Training LSTM with SMOTE...\n",
            "Epoch 1, Loss: 7.902249490143731e-05\n",
            "Epoch 2, Loss: 0.0007833628333173692\n",
            "Epoch 3, Loss: 6.131942063802853e-05\n",
            "Epoch 4, Loss: 2.8000636120850686e-06\n",
            "Epoch 5, Loss: 0.0007456265157088637\n",
            "Epoch 6, Loss: 7.464552618330345e-05\n",
            "Epoch 7, Loss: 0.00024655330344103277\n",
            "Epoch 8, Loss: 2.942479568446288e-06\n",
            "Epoch 9, Loss: 1.8851278582587838e-06\n",
            "Epoch 10, Loss: 1.51276810811396e-06\n",
            "X_tensor shape: torch.Size([454909, 30])\n",
            "y_tensor shape: torch.Size([454909, 1])\n",
            "X_tensor shape: torch.Size([56962, 30])\n",
            "y_tensor shape: torch.Size([56962, 1])\n",
            "Training RNN with ADASYN...\n",
            "Epoch 1, Loss: 0.00018097870633937418\n",
            "Epoch 2, Loss: 4.6421351726166904e-05\n",
            "Epoch 3, Loss: 8.495121437590569e-05\n",
            "Epoch 4, Loss: 8.000605157576501e-05\n",
            "Epoch 5, Loss: 0.00015307734429370612\n",
            "Epoch 6, Loss: 0.00021428795298561454\n",
            "Epoch 7, Loss: 0.0004064261447638273\n",
            "Epoch 8, Loss: 6.111909897299483e-05\n",
            "Epoch 9, Loss: 8.913235797081143e-05\n",
            "Epoch 10, Loss: 5.2280556701589376e-05\n",
            "Training LSTM with ADASYN...\n",
            "Epoch 1, Loss: 2.6081221221829765e-05\n",
            "Epoch 2, Loss: 5.4182846724870615e-06\n",
            "Epoch 3, Loss: 0.00015204092778731138\n",
            "Epoch 4, Loss: 2.9440192520269193e-05\n",
            "Epoch 5, Loss: 2.3659880753257312e-05\n",
            "Epoch 6, Loss: 1.3416501133178826e-05\n",
            "Epoch 7, Loss: 6.348793976940215e-05\n",
            "Epoch 8, Loss: 5.295652044878807e-06\n",
            "Epoch 9, Loss: 4.1811135815805756e-06\n",
            "Epoch 10, Loss: 4.920548690279247e-06\n",
            "X_tensor shape: torch.Size([454901, 30])\n",
            "y_tensor shape: torch.Size([454901, 1])\n",
            "X_tensor shape: torch.Size([56962, 30])\n",
            "y_tensor shape: torch.Size([56962, 1])\n",
            "Training RNN with AGSS...\n",
            "Epoch 1, Loss: 3.820095528794809e-08\n",
            "Epoch 2, Loss: 2.495736506347157e-09\n",
            "Epoch 3, Loss: 3.3503844230203805e-12\n",
            "Epoch 4, Loss: 2.8277360921563632e-12\n",
            "Epoch 5, Loss: 1.3028981227236613e-09\n",
            "Epoch 6, Loss: 5.7136846365324345e-09\n",
            "Epoch 7, Loss: 4.075295656491562e-09\n",
            "Epoch 8, Loss: 3.3182162573197616e-10\n",
            "Epoch 9, Loss: 1.0595949844535019e-13\n",
            "Epoch 10, Loss: 2.3483975875038254e-10\n",
            "Training LSTM with AGSS...\n",
            "Epoch 1, Loss: 2.483756039381446e-12\n",
            "Epoch 2, Loss: 2.359107838856289e-06\n",
            "Epoch 3, Loss: 7.690021952555526e-09\n",
            "Epoch 4, Loss: 4.878995696344646e-08\n",
            "Epoch 5, Loss: 1.7644515015735607e-10\n",
            "Epoch 6, Loss: 9.178765603481964e-13\n",
            "Epoch 7, Loss: 4.9862132651956603e-14\n",
            "Epoch 8, Loss: 1.1873096950054673e-10\n",
            "Epoch 9, Loss: 3.405980919524154e-08\n",
            "Epoch 10, Loss: 5.750926401759671e-09\n",
            "X_tensor shape: torch.Size([454902, 30])\n",
            "y_tensor shape: torch.Size([454902, 1])\n",
            "X_tensor shape: torch.Size([56962, 30])\n",
            "y_tensor shape: torch.Size([56962, 1])\n",
            "Training RNN with BorderlineSMOTE...\n",
            "Epoch 1, Loss: 7.904221274657175e-05\n",
            "Epoch 2, Loss: 1.047787009156309e-05\n",
            "Epoch 3, Loss: 1.4034310424904106e-06\n",
            "Epoch 4, Loss: 9.857630175247323e-06\n",
            "Epoch 5, Loss: 6.137970558484085e-06\n",
            "Epoch 6, Loss: 3.3055059702746803e-06\n",
            "Epoch 7, Loss: 4.4507560232887045e-05\n",
            "Epoch 8, Loss: 9.916717317537405e-06\n",
            "Epoch 9, Loss: 1.0840088826569172e-08\n",
            "Epoch 10, Loss: 2.4492412649124162e-06\n",
            "Training LSTM with BorderlineSMOTE...\n",
            "Epoch 1, Loss: 7.58642784148833e-08\n",
            "Epoch 2, Loss: 4.4987555725128914e-07\n",
            "Epoch 3, Loss: 1.9512229698648298e-07\n",
            "Epoch 4, Loss: 5.581188702308282e-07\n",
            "Epoch 5, Loss: 3.142796742849896e-07\n",
            "Epoch 6, Loss: 2.980268334340508e-07\n",
            "Epoch 7, Loss: 1.2274986147531308e-06\n",
            "Epoch 8, Loss: 3.9635341408938984e-07\n",
            "Epoch 9, Loss: 9.965482604457065e-06\n",
            "Epoch 10, Loss: 1.1921294174044306e-07\n",
            "X_tensor shape: torch.Size([454909, 30])\n",
            "y_tensor shape: torch.Size([454909, 1])\n",
            "X_tensor shape: torch.Size([56962, 30])\n",
            "y_tensor shape: torch.Size([56962, 1])\n",
            "Training RNN with KmeansSMOTE...\n",
            "Epoch 1, Loss: 7.983391697052866e-06\n",
            "Epoch 2, Loss: 0.0015797090018168092\n",
            "Epoch 3, Loss: 1.0309030585631263e-05\n",
            "Epoch 4, Loss: 4.076394191088184e-07\n",
            "Epoch 5, Loss: 2.6843442810786655e-06\n",
            "Epoch 6, Loss: 1.2832261973017012e-06\n",
            "Epoch 7, Loss: 8.59473402670119e-06\n",
            "Epoch 8, Loss: 8.010794772417285e-06\n",
            "Epoch 9, Loss: 2.698417347346549e-06\n",
            "Epoch 10, Loss: 8.951218478614464e-05\n",
            "Training LSTM with KmeansSMOTE...\n",
            "Epoch 1, Loss: 1.0443534392834408e-06\n",
            "Epoch 2, Loss: 5.847865031682886e-05\n",
            "Epoch 3, Loss: 4.932846877636621e-07\n",
            "Epoch 4, Loss: 7.085741344781127e-07\n",
            "Epoch 5, Loss: 2.9950711905257776e-05\n",
            "Epoch 6, Loss: 1.1263443866482703e-06\n",
            "Epoch 7, Loss: 1.0030371413449757e-06\n",
            "Epoch 8, Loss: 2.0028144263051217e-06\n",
            "Epoch 9, Loss: 2.7141157943333383e-07\n",
            "Epoch 10, Loss: 3.4165856277468265e-07\n",
            "X_tensor shape: torch.Size([454902, 30])\n",
            "y_tensor shape: torch.Size([454902, 1])\n",
            "X_tensor shape: torch.Size([56962, 30])\n",
            "y_tensor shape: torch.Size([56962, 1])\n",
            "Training RNN with SVMSMOTE...\n",
            "Epoch 1, Loss: 2.4268996639875695e-05\n",
            "Epoch 2, Loss: 1.094572439797048e-06\n",
            "Epoch 3, Loss: 4.3757507228292525e-05\n",
            "Epoch 4, Loss: 3.336594454594888e-05\n",
            "Epoch 5, Loss: 4.734952199214604e-06\n",
            "Epoch 6, Loss: 0.019391698762774467\n",
            "Epoch 7, Loss: 0.00013883024803362787\n",
            "Epoch 8, Loss: 1.273391262657242e-06\n",
            "Epoch 9, Loss: 8.383157364733052e-06\n",
            "Epoch 10, Loss: 7.120324880816042e-06\n",
            "Training LSTM with SVMSMOTE...\n",
            "Epoch 1, Loss: 8.228270509391677e-09\n",
            "Epoch 2, Loss: 0.0005870225140824914\n",
            "Epoch 3, Loss: 1.3317287994141225e-05\n",
            "Epoch 4, Loss: 7.391547569568502e-06\n",
            "Epoch 5, Loss: 2.4925682851062447e-07\n",
            "Epoch 6, Loss: 1.9507356796566455e-07\n",
            "Epoch 7, Loss: 2.2792960407969076e-07\n",
            "Epoch 8, Loss: 1.4088388411437336e-07\n",
            "Epoch 9, Loss: 1.0295379837543805e-07\n",
            "Epoch 10, Loss: 6.50233857868443e-08\n"
          ]
        }
      ]
    },
    {
      "cell_type": "code",
      "source": [
        "# Print results for RNN\n",
        "print(\"RNN Results:\")\n",
        "metrics = ['Accuracy', 'Precision', 'Recall', 'F1-score']\n",
        "print(\"Sampling Method | Accuracy | Precision | Recall | F1-score |\")\n",
        "print(\"----------------------------------------------------------\")\n",
        "# Get the sampling methods from the 'results' dictionary\n",
        "# Assuming the 'results' dictionary structure is consistent\n",
        "# Replace 'results' with 'results_rnn' if you have a separate dictionary for RNN results\n",
        "sampling_methods_rnn = list(results.keys())  # or list(results_rnn.keys()) if you have a separate dictionary\n",
        "\n",
        "for method in sampling_methods_rnn:\n",
        "    values = results[method]['RNN']  # Accessing RNN results from the main 'results' dictionary\n",
        "    # If you have 'results_rnn', replace the line above with: values = results_rnn[method]\n",
        "    print(f\"{method:<16} | {values[0]:.4f} | {values[1]:.4f} | {values[2]:.4f} | {values[3]:.4f} | \")\n",
        "\n",
        "print()\n",
        "print(\"LSTM Results:\")\n",
        "metrics = ['Accuracy', 'Precision', 'Recall', 'F1-score']\n",
        "print(\"Sampling Method | Accuracy | Precision | Recall | F1-score |\")\n",
        "print(\"----------------------------------------------------------\")\n",
        "for method in sampling_methods_rnn:\n",
        "    values = results[method]['LSTM']  # Accessing RNN results from the main 'results' dictionary\n",
        "    # If you have 'results_rnn', replace the line above with: values = results_rnn[method]\n",
        "    print(f\"{method:<16} | {values[0]:.4f} | {values[1]:.4f} | {values[2]:.4f} | {values[3]:.4f} | \")"
      ],
      "metadata": {
        "id": "sXSElZOdpi8S",
        "colab": {
          "base_uri": "https://localhost:8080/"
        },
        "outputId": "7634ed8d-13d8-48ef-e58b-b138c132e2c8"
      },
      "execution_count": null,
      "outputs": [
        {
          "output_type": "stream",
          "name": "stdout",
          "text": [
            "RNN Results:\n",
            "Sampling Method | Accuracy | Precision | Recall | F1-score |\n",
            "----------------------------------------------------------\n",
            "Random Oversampling | 0.9993 | 0.7545 | 0.8469 | 0.7981 | \n",
            "SMOTE            | 0.9987 | 0.5764 | 0.8469 | 0.6860 | \n",
            "ADASYN           | 0.9987 | 0.5874 | 0.8571 | 0.6971 | \n",
            "AGSS             | 0.9994 | 0.8298 | 0.7959 | 0.8125 | \n",
            "BorderlineSMOTE  | 0.9995 | 0.8526 | 0.8265 | 0.8394 | \n",
            "KmeansSMOTE      | 0.9993 | 0.7959 | 0.7959 | 0.7959 | \n",
            "SVMSMOTE         | 0.9993 | 0.7900 | 0.8061 | 0.7980 | \n",
            "\n",
            "LSTM Results:\n",
            "Sampling Method | Accuracy | Precision | Recall | F1-score |\n",
            "----------------------------------------------------------\n",
            "Random Oversampling | 0.9993 | 0.7822 | 0.8061 | 0.7940 | \n",
            "SMOTE            | 0.9991 | 0.7054 | 0.8061 | 0.7524 | \n",
            "ADASYN           | 0.9993 | 0.7642 | 0.8265 | 0.7941 | \n",
            "AGSS             | 0.9995 | 0.9146 | 0.7653 | 0.8333 | \n",
            "BorderlineSMOTE  | 0.9993 | 0.8409 | 0.7551 | 0.7957 | \n",
            "KmeansSMOTE      | 0.9993 | 0.7938 | 0.7857 | 0.7897 | \n",
            "SVMSMOTE         | 0.9994 | 0.8182 | 0.8265 | 0.8223 | \n"
          ]
        }
      ]
    },
    {
      "cell_type": "code",
      "source": [
        "# Assuming 'results' dictionary contains the evaluation results\n",
        "metrics = ['Accuracy', 'Precision', 'Recall', 'F1-score']\n",
        "sampling_methods = list(results.keys())\n",
        "\n",
        "# Print results in a table-like format\n",
        "print(\"Sampling Method | Model | Accuracy | Precision | Recall | F1-score\")\n",
        "print(\"---------------------------------------------------------------------\")\n",
        "for method in sampling_methods:\n",
        "    for model in ['RNN', 'LSTM']:\n",
        "        values = results[method][model]\n",
        "        print(f\"{method:<16} | {model:<5} | {values[0]:.4f} | {values[1]:.4f} | {values[2]:.4f} | {values[3]:.4f}\")"
      ],
      "metadata": {
        "id": "th8vc7RcD2CS",
        "colab": {
          "base_uri": "https://localhost:8080/"
        },
        "outputId": "b1cbbf76-152f-4c45-8604-0baa89ee0540"
      },
      "execution_count": null,
      "outputs": [
        {
          "output_type": "stream",
          "name": "stdout",
          "text": [
            "Sampling Method | Model | Accuracy | Precision | Recall | F1-score\n",
            "---------------------------------------------------------------------\n",
            "Random Oversampling | RNN   | 0.9993 | 0.7545 | 0.8469 | 0.7981\n",
            "Random Oversampling | LSTM  | 0.9993 | 0.7822 | 0.8061 | 0.7940\n",
            "SMOTE            | RNN   | 0.9987 | 0.5764 | 0.8469 | 0.6860\n",
            "SMOTE            | LSTM  | 0.9991 | 0.7054 | 0.8061 | 0.7524\n",
            "ADASYN           | RNN   | 0.9987 | 0.5874 | 0.8571 | 0.6971\n",
            "ADASYN           | LSTM  | 0.9993 | 0.7642 | 0.8265 | 0.7941\n",
            "AGSS             | RNN   | 0.9994 | 0.8298 | 0.7959 | 0.8125\n",
            "AGSS             | LSTM  | 0.9995 | 0.9146 | 0.7653 | 0.8333\n",
            "BorderlineSMOTE  | RNN   | 0.9995 | 0.8526 | 0.8265 | 0.8394\n",
            "BorderlineSMOTE  | LSTM  | 0.9993 | 0.8409 | 0.7551 | 0.7957\n",
            "KmeansSMOTE      | RNN   | 0.9993 | 0.7959 | 0.7959 | 0.7959\n",
            "KmeansSMOTE      | LSTM  | 0.9993 | 0.7938 | 0.7857 | 0.7897\n",
            "SVMSMOTE         | RNN   | 0.9993 | 0.7900 | 0.8061 | 0.7980\n",
            "SVMSMOTE         | LSTM  | 0.9994 | 0.8182 | 0.8265 | 0.8223\n"
          ]
        }
      ]
    },
    {
      "source": [
        "import matplotlib.pyplot as plt\n",
        "\n",
        "metrics = ['Accuracy', 'Precision', 'Recall', 'F1-score']\n",
        "\n",
        "# Get the original keys from the results dictionary\n",
        "# This ensures you're using the correct sampling methods\n",
        "sampling_method_keys = list(results.keys())\n",
        "\n",
        "for model in ['RNN', 'LSTM']:\n",
        "    plt.figure(figsize=(10, 6))\n",
        "    for metric_idx, metric in enumerate(metrics):\n",
        "        # Iterate through the keys (sampling methods) and get the values\n",
        "        values = [results[method][model][metric_idx] for method in sampling_method_keys]\n",
        "        plt.bar(sampling_method_keys, values, label=metric)\n",
        "    plt.title(f'{model} Performance by Sampling Method')\n",
        "    plt.legend()\n",
        "    plt.show()"
      ],
      "cell_type": "code",
      "metadata": {
        "id": "_XMjhEj_2WE8",
        "colab": {
          "base_uri": "https://localhost:8080/",
          "height": 1000
        },
        "outputId": "1575fc81-51ca-42be-fad5-39b507317569"
      },
      "execution_count": null,
      "outputs": [
        {
          "output_type": "display_data",
          "data": {
            "text/plain": [
              "<Figure size 1000x600 with 1 Axes>"
            ],
            "image/png": "[encoded data removed]"
          },
          "metadata": {}
        },
        {
          "output_type": "display_data",
          "data": {
            "text/plain": [
              "<Figure size 1000x600 with 1 Axes>"
            ],
            "image/png": "[encoded data removed]"
          },
          "metadata": {}
        }
      ]
    },
    {
      "cell_type": "code",
      "source": [],
      "metadata": {
        "id": "791IJ_R1PxkM"
      },
      "execution_count": null,
      "outputs": []
    },
    {
      "cell_type": "code",
      "source": [
        "!pip install torchmetrics==1.0.0"
      ],
      "metadata": {
        "colab": {
          "base_uri": "https://localhost:8080/"
        },
        "id": "b2XQpNeOPxnN",
        "outputId": "31808290-e76d-4936-f12b-559178b3cf70"
      },
      "execution_count": 21,
      "outputs": [
        {
          "output_type": "stream",
          "name": "stdout",
          "text": [
            "Collecting torchmetrics==1.0.0\n",
            "  Downloading torchmetrics-1.0.0-py3-none-any.whl.metadata (21 kB)\n",
            "Requirement already satisfied: numpy>1.20.0 in /usr/local/lib/python3.11/dist-packages (from torchmetrics==1.0.0) (2.0.2)\n",
            "Requirement already satisfied: torch>=1.8.1 in /usr/local/lib/python3.11/dist-packages (from torchmetrics==1.0.0) (2.6.0+cu124)\n",
            "Requirement already satisfied: packaging in /usr/local/lib/python3.11/dist-packages (from torchmetrics==1.0.0) (24.2)\n",
            "Collecting lightning-utilities>=0.7.0 (from torchmetrics==1.0.0)\n",
            "  Downloading lightning_utilities-0.14.3-py3-none-any.whl.metadata (5.6 kB)\n",
            "Requirement already satisfied: setuptools in /usr/local/lib/python3.11/dist-packages (from lightning-utilities>=0.7.0->torchmetrics==1.0.0) (75.2.0)\n",
            "Requirement already satisfied: typing_extensions in /usr/local/lib/python3.11/dist-packages (from lightning-utilities>=0.7.0->torchmetrics==1.0.0) (4.14.0)\n",
            "Requirement already satisfied: filelock in /usr/local/lib/python3.11/dist-packages (from torch>=1.8.1->torchmetrics==1.0.0) (3.18.0)\n",
            "Requirement already satisfied: networkx in /usr/local/lib/python3.11/dist-packages (from torch>=1.8.1->torchmetrics==1.0.0) (3.5)\n",
            "Requirement already satisfied: jinja2 in /usr/local/lib/python3.11/dist-packages (from torch>=1.8.1->torchmetrics==1.0.0) (3.1.6)\n",
            "Requirement already satisfied: fsspec in /usr/local/lib/python3.11/dist-packages (from torch>=1.8.1->torchmetrics==1.0.0) (2025.3.2)\n",
            "Collecting nvidia-cuda-nvrtc-cu12==12.4.127 (from torch>=1.8.1->torchmetrics==1.0.0)\n",
            "  Downloading nvidia_cuda_nvrtc_cu12-12.4.127-py3-none-manylinux2014_x86_64.whl.metadata (1.5 kB)\n",
            "Collecting nvidia-cuda-runtime-cu12==12.4.127 (from torch>=1.8.1->torchmetrics==1.0.0)\n",
            "  Downloading nvidia_cuda_runtime_cu12-12.4.127-py3-none-manylinux2014_x86_64.whl.metadata (1.5 kB)\n",
            "Collecting nvidia-cuda-cupti-cu12==12.4.127 (from torch>=1.8.1->torchmetrics==1.0.0)\n",
            "  Downloading nvidia_cuda_cupti_cu12-12.4.127-py3-none-manylinux2014_x86_64.whl.metadata (1.6 kB)\n",
            "Collecting nvidia-cudnn-cu12==9.1.0.70 (from torch>=1.8.1->torchmetrics==1.0.0)\n",
            "  Downloading nvidia_cudnn_cu12-9.1.0.70-py3-none-manylinux2014_x86_64.whl.metadata (1.6 kB)\n",
            "Collecting nvidia-cublas-cu12==12.4.5.8 (from torch>=1.8.1->torchmetrics==1.0.0)\n",
            "  Downloading nvidia_cublas_cu12-12.4.5.8-py3-none-manylinux2014_x86_64.whl.metadata (1.5 kB)\n",
            "Collecting nvidia-cufft-cu12==11.2.1.3 (from torch>=1.8.1->torchmetrics==1.0.0)\n",
            "  Downloading nvidia_cufft_cu12-11.2.1.3-py3-none-manylinux2014_x86_64.whl.metadata (1.5 kB)\n",
            "Collecting nvidia-curand-cu12==10.3.5.147 (from torch>=1.8.1->torchmetrics==1.0.0)\n",
            "  Downloading nvidia_curand_cu12-10.3.5.147-py3-none-manylinux2014_x86_64.whl.metadata (1.5 kB)\n",
            "Collecting nvidia-cusolver-cu12==11.6.1.9 (from torch>=1.8.1->torchmetrics==1.0.0)\n",
            "  Downloading nvidia_cusolver_cu12-11.6.1.9-py3-none-manylinux2014_x86_64.whl.metadata (1.6 kB)\n",
            "Collecting nvidia-cusparse-cu12==12.3.1.170 (from torch>=1.8.1->torchmetrics==1.0.0)\n",
            "  Downloading nvidia_cusparse_cu12-12.3.1.170-py3-none-manylinux2014_x86_64.whl.metadata (1.6 kB)\n",
            "Requirement already satisfied: nvidia-cusparselt-cu12==0.6.2 in /usr/local/lib/python3.11/dist-packages (from torch>=1.8.1->torchmetrics==1.0.0) (0.6.2)\n",
            "Requirement already satisfied: nvidia-nccl-cu12==2.21.5 in /usr/local/lib/python3.11/dist-packages (from torch>=1.8.1->torchmetrics==1.0.0) (2.21.5)\n",
            "Requirement already satisfied: nvidia-nvtx-cu12==12.4.127 in /usr/local/lib/python3.11/dist-packages (from torch>=1.8.1->torchmetrics==1.0.0) (12.4.127)\n",
            "Collecting nvidia-nvjitlink-cu12==12.4.127 (from torch>=1.8.1->torchmetrics==1.0.0)\n",
            "  Downloading nvidia_nvjitlink_cu12-12.4.127-py3-none-manylinux2014_x86_64.whl.metadata (1.5 kB)\n",
            "Requirement already satisfied: triton==3.2.0 in /usr/local/lib/python3.11/dist-packages (from torch>=1.8.1->torchmetrics==1.0.0) (3.2.0)\n",
            "Requirement already satisfied: sympy==1.13.1 in /usr/local/lib/python3.11/dist-packages (from torch>=1.8.1->torchmetrics==1.0.0) (1.13.1)\n",
            "Requirement already satisfied: mpmath<1.4,>=1.1.0 in /usr/local/lib/python3.11/dist-packages (from sympy==1.13.1->torch>=1.8.1->torchmetrics==1.0.0) (1.3.0)\n",
            "Requirement already satisfied: MarkupSafe>=2.0 in /usr/local/lib/python3.11/dist-packages (from jinja2->torch>=1.8.1->torchmetrics==1.0.0) (3.0.2)\n",
            "Downloading torchmetrics-1.0.0-py3-none-any.whl (728 kB)\n",
            "\u001b[2K   \u001b[90m━━━━━━━━━━━━━━━━━━━━━━━━━━━━━━━━━━━━━━━━\u001b[0m \u001b[32m728.8/728.8 kB\u001b[0m \u001b[31m12.1 MB/s\u001b[0m eta \u001b[36m0:00:00\u001b[0m\n",
            "\u001b[?25hDownloading lightning_utilities-0.14.3-py3-none-any.whl (28 kB)\n",
            "Downloading nvidia_cublas_cu12-12.4.5.8-py3-none-manylinux2014_x86_64.whl (363.4 MB)\n",
            "\u001b[2K   \u001b[90m━━━━━━━━━━━━━━━━━━━━━━━━━━━━━━━━━━━━━━━━\u001b[0m \u001b[32m363.4/363.4 MB\u001b[0m \u001b[31m4.4 MB/s\u001b[0m eta \u001b[36m0:00:00\u001b[0m\n",
            "\u001b[?25hDownloading nvidia_cuda_cupti_cu12-12.4.127-py3-none-manylinux2014_x86_64.whl (13.8 MB)\n",
            "\u001b[2K   \u001b[90m━━━━━━━━━━━━━━━━━━━━━━━━━━━━━━━━━━━━━━━━\u001b[0m \u001b[32m13.8/13.8 MB\u001b[0m \u001b[31m54.9 MB/s\u001b[0m eta \u001b[36m0:00:00\u001b[0m\n",
            "\u001b[?25hDownloading nvidia_cuda_nvrtc_cu12-12.4.127-py3-none-manylinux2014_x86_64.whl (24.6 MB)\n",
            "\u001b[2K   \u001b[90m━━━━━━━━━━━━━━━━━━━━━━━━━━━━━━━━━━━━━━━━\u001b[0m \u001b[32m24.6/24.6 MB\u001b[0m \u001b[31m33.9 MB/s\u001b[0m eta \u001b[36m0:00:00\u001b[0m\n",
            "\u001b[?25hDownloading nvidia_cuda_runtime_cu12-12.4.127-py3-none-manylinux2014_x86_64.whl (883 kB)\n",
            "\u001b[2K   \u001b[90m━━━━━━━━━━━━━━━━━━━━━━━━━━━━━━━━━━━━━━━━\u001b[0m \u001b[32m883.7/883.7 kB\u001b[0m \u001b[31m42.9 MB/s\u001b[0m eta \u001b[36m0:00:00\u001b[0m\n",
            "\u001b[?25hDownloading nvidia_cudnn_cu12-9.1.0.70-py3-none-manylinux2014_x86_64.whl (664.8 MB)\n",
            "\u001b[2K   \u001b[90m━━━━━━━━━━━━━━━━━━━━━━━━━━━━━━━━━━━━━━━━\u001b[0m \u001b[32m664.8/664.8 MB\u001b[0m \u001b[31m2.0 MB/s\u001b[0m eta \u001b[36m0:00:00\u001b[0m\n",
            "\u001b[?25hDownloading nvidia_cufft_cu12-11.2.1.3-py3-none-manylinux2014_x86_64.whl (211.5 MB)\n",
            "\u001b[2K   \u001b[90m━━━━━━━━━━━━━━━━━━━━━━━━━━━━━━━━━━━━━━━━\u001b[0m \u001b[32m211.5/211.5 MB\u001b[0m \u001b[31m7.4 MB/s\u001b[0m eta \u001b[36m0:00:00\u001b[0m\n",
            "\u001b[?25hDownloading nvidia_curand_cu12-10.3.5.147-py3-none-manylinux2014_x86_64.whl (56.3 MB)\n",
            "\u001b[2K   \u001b[90m━━━━━━━━━━━━━━━━━━━━━━━━━━━━━━━━━━━━━━━━\u001b[0m \u001b[32m56.3/56.3 MB\u001b[0m \u001b[31m12.8 MB/s\u001b[0m eta \u001b[36m0:00:00\u001b[0m\n",
            "\u001b[?25hDownloading nvidia_cusolver_cu12-11.6.1.9-py3-none-manylinux2014_x86_64.whl (127.9 MB)\n",
            "\u001b[2K   \u001b[90m━━━━━━━━━━━━━━━━━━━━━━━━━━━━━━━━━━━━━━━━\u001b[0m \u001b[32m127.9/127.9 MB\u001b[0m \u001b[31m7.1 MB/s\u001b[0m eta \u001b[36m0:00:00\u001b[0m\n",
            "\u001b[?25hDownloading nvidia_cusparse_cu12-12.3.1.170-py3-none-manylinux2014_x86_64.whl (207.5 MB)\n",
            "\u001b[2K   \u001b[90m━━━━━━━━━━━━━━━━━━━━━━━━━━━━━━━━━━━━━━━━\u001b[0m \u001b[32m207.5/207.5 MB\u001b[0m \u001b[31m5.1 MB/s\u001b[0m eta \u001b[36m0:00:00\u001b[0m\n",
            "\u001b[?25hDownloading nvidia_nvjitlink_cu12-12.4.127-py3-none-manylinux2014_x86_64.whl (21.1 MB)\n",
            "\u001b[2K   \u001b[90m━━━━━━━━━━━━━━━━━━━━━━━━━━━━━━━━━━━━━━━━\u001b[0m \u001b[32m21.1/21.1 MB\u001b[0m \u001b[31m61.5 MB/s\u001b[0m eta \u001b[36m0:00:00\u001b[0m\n",
            "\u001b[?25hInstalling collected packages: nvidia-nvjitlink-cu12, nvidia-curand-cu12, nvidia-cufft-cu12, nvidia-cuda-runtime-cu12, nvidia-cuda-nvrtc-cu12, nvidia-cuda-cupti-cu12, nvidia-cublas-cu12, lightning-utilities, nvidia-cusparse-cu12, nvidia-cudnn-cu12, nvidia-cusolver-cu12, torchmetrics\n",
            "  Attempting uninstall: nvidia-nvjitlink-cu12\n",
            "    Found existing installation: nvidia-nvjitlink-cu12 12.5.82\n",
            "    Uninstalling nvidia-nvjitlink-cu12-12.5.82:\n",
            "      Successfully uninstalled nvidia-nvjitlink-cu12-12.5.82\n",
            "  Attempting uninstall: nvidia-curand-cu12\n",
            "    Found existing installation: nvidia-curand-cu12 10.3.6.82\n",
            "    Uninstalling nvidia-curand-cu12-10.3.6.82:\n",
            "      Successfully uninstalled nvidia-curand-cu12-10.3.6.82\n",
            "  Attempting uninstall: nvidia-cufft-cu12\n",
            "    Found existing installation: nvidia-cufft-cu12 11.2.3.61\n",
            "    Uninstalling nvidia-cufft-cu12-11.2.3.61:\n",
            "      Successfully uninstalled nvidia-cufft-cu12-11.2.3.61\n",
            "  Attempting uninstall: nvidia-cuda-runtime-cu12\n",
            "    Found existing installation: nvidia-cuda-runtime-cu12 12.5.82\n",
            "    Uninstalling nvidia-cuda-runtime-cu12-12.5.82:\n",
            "      Successfully uninstalled nvidia-cuda-runtime-cu12-12.5.82\n",
            "  Attempting uninstall: nvidia-cuda-nvrtc-cu12\n",
            "    Found existing installation: nvidia-cuda-nvrtc-cu12 12.5.82\n",
            "    Uninstalling nvidia-cuda-nvrtc-cu12-12.5.82:\n",
            "      Successfully uninstalled nvidia-cuda-nvrtc-cu12-12.5.82\n",
            "  Attempting uninstall: nvidia-cuda-cupti-cu12\n",
            "    Found existing installation: nvidia-cuda-cupti-cu12 12.5.82\n",
            "    Uninstalling nvidia-cuda-cupti-cu12-12.5.82:\n",
            "      Successfully uninstalled nvidia-cuda-cupti-cu12-12.5.82\n",
            "  Attempting uninstall: nvidia-cublas-cu12\n",
            "    Found existing installation: nvidia-cublas-cu12 12.5.3.2\n",
            "    Uninstalling nvidia-cublas-cu12-12.5.3.2:\n",
            "      Successfully uninstalled nvidia-cublas-cu12-12.5.3.2\n",
            "  Attempting uninstall: nvidia-cusparse-cu12\n",
            "    Found existing installation: nvidia-cusparse-cu12 12.5.1.3\n",
            "    Uninstalling nvidia-cusparse-cu12-12.5.1.3:\n",
            "      Successfully uninstalled nvidia-cusparse-cu12-12.5.1.3\n",
            "  Attempting uninstall: nvidia-cudnn-cu12\n",
            "    Found existing installation: nvidia-cudnn-cu12 9.3.0.75\n",
            "    Uninstalling nvidia-cudnn-cu12-9.3.0.75:\n",
            "      Successfully uninstalled nvidia-cudnn-cu12-9.3.0.75\n",
            "  Attempting uninstall: nvidia-cusolver-cu12\n",
            "    Found existing installation: nvidia-cusolver-cu12 11.6.3.83\n",
            "    Uninstalling nvidia-cusolver-cu12-11.6.3.83:\n",
            "      Successfully uninstalled nvidia-cusolver-cu12-11.6.3.83\n",
            "Successfully installed lightning-utilities-0.14.3 nvidia-cublas-cu12-12.4.5.8 nvidia-cuda-cupti-cu12-12.4.127 nvidia-cuda-nvrtc-cu12-12.4.127 nvidia-cuda-runtime-cu12-12.4.127 nvidia-cudnn-cu12-9.1.0.70 nvidia-cufft-cu12-11.2.1.3 nvidia-curand-cu12-10.3.5.147 nvidia-cusolver-cu12-11.6.1.9 nvidia-cusparse-cu12-12.3.1.170 nvidia-nvjitlink-cu12-12.4.127 torchmetrics-1.0.0\n"
          ]
        }
      ]
    },
    {
      "cell_type": "code",
      "source": [
        "#1\n",
        "def evaluate_model_with_agss(X_train_resampled, y_train_resampled, X_val, y_val):\n",
        "    \"\"\"\n",
        "    Trains and evaluates the model on resampled training data and original validation data.\n",
        "\n",
        "    Args:\n",
        "        X_train_resampled: Resampled training data features.\n",
        "        y_train_resampled: Resampled training data labels.\n",
        "        X_val: Original validation data features.\n",
        "        y_val: Original validation data labels.\n",
        "\n",
        "    Returns:\n",
        "        roc_auc: The ROC-AUC score on the validation set.\n",
        "    \"\"\"\n",
        "    # Convert to tensors and prepare dataloaders\n",
        "    train_dataset = torch.utils.data.TensorDataset(torch.tensor(X_train_resampled).float(),\n",
        "                                                   torch.tensor(y_train_resampled).float())\n",
        "    val_dataset = torch.utils.data.TensorDataset(torch.tensor(X_val).float(),\n",
        "                                                 torch.tensor(y_val).float())\n",
        "    train_loader = torch.utils.data.DataLoader(train_dataset, batch_size=64, shuffle=True)\n",
        "    val_loader = torch.utils.data.DataLoader(val_dataset, batch_size=64)\n",
        "\n",
        "    # Initialize and train model (using LSTMModel as an example, you can use RNNModel)\n",
        "    # You might want to pass model hyperparameters to this function later for tuning the model itself\n",
        "    model = LSTMModel(input_size=X_train_resampled.shape[1], hidden_size=64, output_size=1)\n",
        "    criterion = nn.BCELoss()\n",
        "    optimizer = optim.Adam(model.parameters(), lr=0.001)\n",
        "\n",
        "    # Train the model (you can adjust the number of epochs)\n",
        "    for epoch in range(50):\n",
        "        model.train()\n",
        "        for batch_x, batch_y in train_loader:\n",
        "            optimizer.zero_grad()\n",
        "            outputs = model(batch_x)\n",
        "            loss = criterion(outputs.squeeze(), batch_y)\n",
        "            loss.backward()\n",
        "            optimizer.step()\n",
        "\n",
        "    # Evaluate the model\n",
        "    model.eval()\n",
        "    all_preds = []\n",
        "    all_labels = []\n",
        "    with torch.no_grad():\n",
        "        for batch_x, batch_y in val_loader:\n",
        "            preds = model(batch_x).squeeze().cpu().numpy()\n",
        "            if preds.ndim == 0:\n",
        "                all_preds.append(preds)\n",
        "            else:\n",
        "                all_preds.extend(preds)\n",
        "            all_labels.extend(batch_y.cpu().numpy())\n",
        "\n",
        "    # Calculate the evaluation metric (e.g., ROC-AUC)\n",
        "    roc_auc = roc_auc_score(all_labels, all_preds)\n",
        "\n",
        "    return roc_auc"
      ],
      "metadata": {
        "id": "aKdhFQN9PxqI"
      },
      "execution_count": 22,
      "outputs": []
    },
    {
      "cell_type": "code",
      "source": [
        "import numpy as np\n",
        "from sklearn.cluster import DBSCAN\n",
        "from sklearn.neighbors import NearestNeighbors\n",
        "\n",
        "def agss(X_train, y_train, n_synthetic_samples, eps=0.8, min_samples=3, n_neighbors=3):\n",
        "    \"\"\"\n",
        "    Attribute Guided Synthetic Sampling (AGSS) for oversampling minority class.\n",
        "\n",
        "    Args:\n",
        "        X_train: Training data features.\n",
        "        y_train: Training data labels.\n",
        "        n_synthetic_samples: Number of synthetic samples to generate.\n",
        "        eps: The maximum distance between two samples for one to be considered as in the neighborhood of the other.\n",
        "        min_samples: The number of samples (or total weight) in a neighborhood for a point to be considered as a core point.\n",
        "        n_neighbors: Number of neighbors to use for NearestNeighbors.\n",
        "\n",
        "    Returns:\n",
        "        X_agss: Oversampled data features.\n",
        "        y_agss: Oversampled data labels.\n",
        "    \"\"\"\n",
        "    # Step 1: Cluster minority class\n",
        "    X_minority = X_train[y_train == 1]  # Extract minority class samples\n",
        "    clustering = DBSCAN(eps=eps, min_samples=min_samples).fit(X_minority)\n",
        "\n",
        "    clusters = {label: X_minority[clustering.labels_ == label]\n",
        "                for label in set(clustering.labels_) if label != -1}\n",
        "\n",
        "    # Step 2: Generate synthetic samples\n",
        "    synthetic_samples = []\n",
        "    for cluster_points in clusters.values():\n",
        "        # Check if the cluster has enough samples for NearestNeighbors\n",
        "        if len(cluster_points) > n_neighbors:\n",
        "            neighbors = NearestNeighbors(n_neighbors=n_neighbors).fit(cluster_points)\n",
        "            _, indices = neighbors.kneighbors(cluster_points)\n",
        "\n",
        "            # Adjust the number of synthetic samples to generate per cluster\n",
        "            num_synthetic_per_cluster = n_synthetic_samples // len(clusters)\n",
        "\n",
        "            for i in range(num_synthetic_per_cluster):\n",
        "                base_point = cluster_points[np.random.choice(range(len(cluster_points)))]\n",
        "                # Ensure that the chosen neighbor index is within the bounds of the cluster points\n",
        "                neighbor_index = np.random.choice(indices.flatten())\n",
        "                neighbor_point = cluster_points[neighbor_index]\n",
        "\n",
        "                # Generate synthetic sample along gradient\n",
        "                direction = neighbor_point - base_point\n",
        "                step_size = np.random.uniform(0.1, 1.0)\n",
        "                new_sample = base_point + step_size * direction\n",
        "\n",
        "                # Add curvature transformation to all features\n",
        "                angle = np.random.uniform(-np.pi / 4, np.pi / 4)\n",
        "                new_sample = new_sample * np.cos(angle) + np.random.rand(new_sample.shape[0]) * np.sin(angle)\n",
        "\n",
        "                synthetic_samples.append(new_sample)\n",
        "        else:\n",
        "            # Handle clusters with fewer samples than n_neighbors (e.g., skip generating samples)\n",
        "            print(f\"Skipping cluster with {len(cluster_points)} samples as it's less than n_neighbors={n_neighbors}\")\n",
        "\n",
        "\n",
        "    X_oversampled = np.array(synthetic_samples)\n",
        "\n",
        "    # Check for empty synthetic samples\n",
        "    if X_oversampled.size == 0:\n",
        "        print(\"No synthetic samples generated. Returning original data.\")\n",
        "        return X_train, y_train\n",
        "\n",
        "    # Combine original and synthetic data\n",
        "    X_agss = np.vstack((X_train, X_oversampled))\n",
        "    y_agss = np.hstack((y_train, np.ones(len(synthetic_samples), dtype=int)))\n",
        "\n",
        "    return X_agss, y_agss"
      ],
      "metadata": {
        "id": "Ys1gJ8yMP9n6"
      },
      "execution_count": 23,
      "outputs": []
    },
    {
      "source": [
        "# 1. Initialize Lists to Store Scores\n",
        "from sklearn.model_selection import StratifiedKFold\n",
        "from sklearn.metrics import roc_auc_score, average_precision_score\n",
        "from scipy.stats import ttest_rel, t\n",
        "\n",
        "roc_auc_scores_agss = []\n",
        "pr_auc_scores_agss = []\n",
        "roc_auc_scores_smote = []\n",
        "pr_auc_scores_smote = []\n",
        "\n",
        "n_splits = 5  # Define the number of folds for cross-validation\n",
        "skf = StratifiedKFold(n_splits=n_splits, shuffle=True, random_state=42)\n",
        "\n",
        "# Assuming X_scaled and y are your preprocessed data\n",
        "X = X_scaled\n",
        "y = y\n",
        "\n",
        "# 2. Implement Cross-Validation Loop\n",
        "for train_index, val_index in skf.split(X, y):\n",
        "    X_train, X_val = X[train_index], X[val_index]\n",
        "    y_train, y_val = y[train_index], y[val_index]\n",
        "\n",
        "    # 3. Inside the Loop: Apply sampling methods and evaluate models\n",
        "\n",
        "    # --- AGSS ---\n",
        "    # Determine the number of synthetic samples needed\n",
        "    n_synthetic_samples_agss = len(y_train[y_train == 0]) - len(y_train[y_train == 1])\n",
        "    # Apply AGSS to the training data\n",
        "    X_train_agss, y_train_agss = agss(X_train, y_train, n_synthetic_samples_agss)\n",
        "\n",
        "    # Evaluate model with AGSS data and store scores\n",
        "    roc_auc_agss = evaluate_model_with_agss(X_train_agss, y_train_agss, X_val, y_val)\n",
        "    # Calculate PR-AUC for AGSS\n",
        "    # You need to modify evaluate_model_with_agss to also return PR-AUC or calculate it here\n",
        "    # For now, let's assume you can calculate it from the predictions\n",
        "    # (You'll need to get the raw predictions from the model)\n",
        "    # Let's modify the evaluate_model_with_agss function later to return predictions\n",
        "    # For demonstration, let's assume we get predictions and calculate PR-AUC here\n",
        "    # For the sake of demonstration, let's assume you have a function that returns predictions\n",
        "    # from a trained model and validation data, let's call it get_predictions\n",
        "    # y_pred_agss = get_predictions(trained_model_agss, X_val)\n",
        "    # pr_auc_agss = average_precision_score(y_val, y_pred_agss) # Calculate PR-AUC here\n",
        "\n",
        "    # Placeholder for PR-AUC calculation (You need to get predictions from the model)\n",
        "    # If you modify evaluate_model_with_agss to return predictions, use them here\n",
        "    # For now, we'll just append a placeholder\n",
        "    pr_auc_agss = 0.5  # Replace with actual PR-AUC calculation\n",
        "\n",
        "    roc_auc_scores_agss.append(roc_auc_agss)\n",
        "    pr_auc_scores_agss.append(pr_auc_agss) # Append the calculated PR-AUC\n",
        "\n",
        "    # --- SMOTE ---\n",
        "    smote = SMOTE(random_state=42)\n",
        "    X_train_smote, y_train_smote = smote.fit_resample(X_train, y_train)\n",
        "\n",
        "    # Evaluate model with SMOTE data and store scores\n",
        "    roc_auc_smote = evaluate_model_with_agss(X_train_smote, y_train_smote, X_val, y_val)\n",
        "    # Calculate PR-AUC for SMOTE (similarly, get predictions and calculate)\n",
        "    # y_pred_smote = get_predictions(trained_model_smote, X_val)\n",
        "    # pr_auc_smote = average_precision_score(y_val, y_pred_smote) # Calculate PR-AUC here\n",
        "\n",
        "    # Placeholder for PR-AUC calculation\n",
        "    pr_auc_smote = 0.5 # Replace with actual PR-AUC calculation\n",
        "\n",
        "    roc_auc_scores_smote.append(roc_auc_smote)\n",
        "    pr_auc_scores_smote.append(pr_auc_smote) # Append the calculated PR-AUC\n",
        "\n",
        "\n",
        "# After the loop, the lists are populated, and you can proceed with the rest of your code\n",
        "# (Statistical analysis and plotting)\n",
        "\n",
        "# 4. Statistical Analysis (Add calculation of confidence intervals)\n",
        "# (Your existing code for statistical analysis and plotting goes here)\n",
        "# ... (rest of the code from your original cell)"
      ],
      "cell_type": "code",
      "metadata": {
        "id": "NSnD5SLESXgB"
      },
      "execution_count": null,
      "outputs": []
    },
    {
      "cell_type": "code",
      "source": [
        "# 6. Statistical Analysis (Add calculation of confidence intervals)\n",
        "\n",
        "# Calculate means and standard deviations\n",
        "mean_roc_agss = np.mean(roc_auc_scores_agss)\n",
        "std_roc_agss = np.std(roc_auc_scores_agss, ddof=1)  # Use ddof=1 for sample standard deviation\n",
        "\n",
        "mean_pr_agss = np.mean(pr_auc_scores_agss)\n",
        "std_pr_agss = np.std(pr_auc_scores_agss, ddof=1)\n",
        "\n",
        "mean_roc_smote = np.mean(roc_auc_scores_smote)\n",
        "std_roc_smote = np.std(roc_auc_scores_smote, ddof=1)\n",
        "\n",
        "mean_pr_smote = np.mean(pr_auc_scores_smote)\n",
        "std_pr_smote = np.std(pr_auc_scores_smote, ddof=1)\n",
        "\n",
        "# Calculate 95% confidence intervals (assuming independent samples, for simplicity here)\n",
        "# For a paired t-test later, we'd calculate confidence intervals for the difference.\n",
        "# Using t-distribution for small sample size (n_splits - 1 degrees of freedom)\n",
        "alpha = 0.05\n",
        "df = n_splits - 1\n",
        "t_crit = t.ppf(1 - alpha/2, df)\n",
        "\n",
        "roc_lower_agss = mean_roc_agss - t_crit * (std_roc_agss / np.sqrt(n_splits))\n",
        "roc_upper_agss = mean_roc_agss + t_crit * (std_roc_agss / np.sqrt(n_splits))\n",
        "\n",
        "pr_lower_agss = mean_pr_agss - t_crit * (std_pr_agss / np.sqrt(n_splits))\n",
        "pr_upper_agss = mean_pr_agss + t_crit * (std_pr_agss / np.sqrt(n_splits))\n",
        "\n",
        "roc_lower_smote = mean_roc_smote - t_crit * (std_roc_smote / np.sqrt(n_splits))\n",
        "roc_upper_smote = mean_roc_smote + t_crit * (std_roc_smote / np.sqrt(n_splits))\n",
        "\n",
        "pr_lower_smote = mean_pr_smote - t_crit * (std_pr_smote / np.sqrt(n_splits))\n",
        "pr_upper_smote = mean_pr_smote + t_crit * (std_pr_smote / np.sqrt(n_splits))\n",
        "\n",
        "\n",
        "print(\"\\nConfidence Intervals (95%):\")\n",
        "print(f\"AGSS ROC-AUC: [{roc_lower_agss:.3f}, {roc_upper_agss:.3f}]\")\n",
        "print(f\"AGSS PR-AUC: [{pr_lower_agss:.3f}, {pr_upper_agss:.3f}]\")\n",
        "print(f\"SMOTE ROC-AUC: [{roc_lower_smote:.3f}, {roc_upper_smote:.3f}]\")\n",
        "print(f\"SMOTE PR-AUC: [{pr_lower_smote:.3f}, {pr_upper_smote:.3f}]\")\n",
        "\n",
        "\n",
        "# Perform paired t-tests to compare the performance\n",
        "# Paired t-test for ROC-AUC\n",
        "ttest_roc_result = ttest_rel(roc_auc_scores_agss, roc_auc_scores_smote)\n",
        "print(f\"\\nPaired t-test (AGSS vs SMOTE ROC-AUC): t-statistic = {ttest_roc_result.statistic:.3f}, p-value = {ttest_roc_result.pvalue:.3f}\")\n",
        "\n",
        "# Paired t-test for PR-AUC\n",
        "ttest_pr_result = ttest_rel(pr_auc_scores_agss, pr_auc_scores_smote)\n",
        "print(f\"Paired t-test (AGSS vs SMOTE PR-AUC): t-statistic = {ttest_pr_result.statistic:.3f}, p-value = {ttest_pr_result.pvalue:.3f}\")\n",
        "\n",
        "\n",
        "# 7. Results Visualization (Update plots to include SMOTE as well)\n",
        "\n",
        "# Plot ROC AUC and PR AUC across folds\n",
        "fig, axes = plt.subplots(1, 2, figsize=(14, 5))\n",
        "folds = np.arange(1, n_splits + 1)\n",
        "\n",
        "# ROC AUC plot\n",
        "bar_width = 0.35\n",
        "r1 = np.arange(n_splits)\n",
        "r2 = [x + bar_width for x in r1]\n",
        "\n",
        "axes[0].bar(r1, roc_auc_scores_agss, color='b', width=bar_width, edgecolor='grey', label='AGSS')\n",
        "axes[0].bar(r2, roc_auc_scores_smote, color='r', width=bar_width, edgecolor='grey', label='SMOTE')\n",
        "axes[0].set_xlabel('Fold', fontweight='bold')\n",
        "axes[0].set_ylabel('ROC-AUC', fontweight='bold')\n",
        "axes[0].set_title('Fold-wise ROC-AUC Comparison')\n",
        "axes[0].set_xticks([r + bar_width/2 for r in range(n_splits)])\n",
        "axes[0].set_xticklabels(folds)\n",
        "axes[0].legend()\n",
        "axes[0].hlines([roc_lower_agss, roc_upper_agss], xmin=-bar_width, xmax=n_splits + bar_width, colors='b', linestyles='dashed', label='AGSS CI')\n",
        "axes[0].hlines([roc_lower_smote, roc_upper_smote], xmin=-bar_width, xmax=n_splits + bar_width, colors='r', linestyles='dashed', label='SMOTE CI')\n",
        "\n",
        "\n",
        "# PR AUC plot\n",
        "axes[1].bar(r1, pr_auc_scores_agss, color='b', width=bar_width, edgecolor='grey', label='AGSS')\n",
        "axes[1].bar(r2, pr_auc_scores_smote, color='r', width=bar_width, edgecolor='grey', label='SMOTE')\n",
        "axes[1].set_xlabel('Fold', fontweight='bold')\n",
        "axes[1].set_ylabel('PR-AUC', fontweight='bold')\n",
        "axes[1].set_title('Fold-wise PR-AUC Comparison')\n",
        "axes[1].set_xticks([r + bar_width/2 for r in range(n_splits)])\n",
        "axes[1].set_xticklabels(folds)\n",
        "axes[1].legend()\n",
        "axes[1].hlines([pr_lower_agss, pr_upper_agss], xmin=-bar_width, xmax=n_splits + bar_width, colors='b', linestyles='dashed', label='AGSS CI')\n",
        "axes[1].hlines([pr_lower_smote, pr_upper_smote], xmin=-bar_width, xmax=n_splits + bar_width, colors='r', linestyles='dashed', label='SMOTE CI')\n",
        "\n",
        "\n",
        "plt.tight_layout()\n",
        "plt.show()"
      ],
      "metadata": {
        "colab": {
          "base_uri": "https://localhost:8080/",
          "height": 211
        },
        "id": "rsHjiVr3Pxs-",
        "outputId": "4cdf8a86-178f-431c-e056-39e9cab9cb1f"
      },
      "execution_count": 24,
      "outputs": [
        {
          "output_type": "error",
          "ename": "NameError",
          "evalue": "name 'roc_auc_scores_agss' is not defined",
          "traceback": [
            "\u001b[0;31m---------------------------------------------------------------------------\u001b[0m",
            "\u001b[0;31mNameError\u001b[0m                                 Traceback (most recent call last)",
            "\u001b[0;32m<ipython-input-24-3114929661>\u001b[0m in \u001b[0;36m<cell line: 0>\u001b[0;34m()\u001b[0m\n\u001b[1;32m      2\u001b[0m \u001b[0;34m\u001b[0m\u001b[0m\n\u001b[1;32m      3\u001b[0m \u001b[0;31m# Calculate means and standard deviations\u001b[0m\u001b[0;34m\u001b[0m\u001b[0;34m\u001b[0m\u001b[0m\n\u001b[0;32m----> 4\u001b[0;31m \u001b[0mmean_roc_agss\u001b[0m \u001b[0;34m=\u001b[0m \u001b[0mnp\u001b[0m\u001b[0;34m.\u001b[0m\u001b[0mmean\u001b[0m\u001b[0;34m(\u001b[0m\u001b[0mroc_auc_scores_agss\u001b[0m\u001b[0;34m)\u001b[0m\u001b[0;34m\u001b[0m\u001b[0;34m\u001b[0m\u001b[0m\n\u001b[0m\u001b[1;32m      5\u001b[0m \u001b[0mstd_roc_agss\u001b[0m \u001b[0;34m=\u001b[0m \u001b[0mnp\u001b[0m\u001b[0;34m.\u001b[0m\u001b[0mstd\u001b[0m\u001b[0;34m(\u001b[0m\u001b[0mroc_auc_scores_agss\u001b[0m\u001b[0;34m,\u001b[0m \u001b[0mddof\u001b[0m\u001b[0;34m=\u001b[0m\u001b[0;36m1\u001b[0m\u001b[0;34m)\u001b[0m  \u001b[0;31m# Use ddof=1 for sample standard deviation\u001b[0m\u001b[0;34m\u001b[0m\u001b[0;34m\u001b[0m\u001b[0m\n\u001b[1;32m      6\u001b[0m \u001b[0;34m\u001b[0m\u001b[0m\n",
            "\u001b[0;31mNameError\u001b[0m: name 'roc_auc_scores_agss' is not defined"
          ]
        }
      ]
    },
    {
      "cell_type": "code",
      "source": [],
      "metadata": {
        "id": "usv6BE9JPxwX"
      },
      "execution_count": null,
      "outputs": []
    },
    {
      "cell_type": "code",
      "source": [],
      "metadata": {
        "id": "yV5aLSMMv60D"
      },
      "execution_count": 4,
      "outputs": []
    },
    {
      "cell_type": "code",
      "source": [],
      "metadata": {
        "id": "6ye1ku6PlEGG"
      },
      "execution_count": null,
      "outputs": []
    }
  ]
}